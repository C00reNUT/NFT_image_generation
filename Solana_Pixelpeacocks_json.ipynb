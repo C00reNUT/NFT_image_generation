{
  "nbformat": 4,
  "nbformat_minor": 0,
  "metadata": {
    "colab": {
      "name": "Solana_Pixelpeacocks_json.ipynb",
      "provenance": [],
      "collapsed_sections": [
        "jrJZ6mN8GD2l",
        "RsoHpwt9Kd7S",
        "VCpOANnkvDzg",
        "3b-YS-Hx41Rc",
        "Bh6Yo2dN5rDs",
        "7UB3qIVZJhOK"
      ],
      "authorship_tag": "ABX9TyPM1IfFrAupLIW9YAtl76ud",
      "include_colab_link": true
    },
    "kernelspec": {
      "name": "python3",
      "display_name": "Python 3"
    },
    "language_info": {
      "name": "python"
    }
  },
  "cells": [
    {
      "cell_type": "markdown",
      "metadata": {
        "id": "view-in-github",
        "colab_type": "text"
      },
      "source": [
        "<a href=\"https://colab.research.google.com/github/gkiri/NFT_image_generation/blob/main/Solana_Pixelpeacocks_json.ipynb\" target=\"_parent\"><img src=\"https://colab.research.google.com/assets/colab-badge.svg\" alt=\"Open In Colab\"/></a>"
      ]
    },
    {
      "cell_type": "code",
      "metadata": {
        "id": "AYfjjHSbTUjh"
      },
      "source": [
        "# Boring Banana approach"
      ],
      "execution_count": null,
      "outputs": []
    },
    {
      "cell_type": "markdown",
      "metadata": {
        "id": "jrJZ6mN8GD2l"
      },
      "source": [
        "# Clone repo and setup"
      ]
    },
    {
      "cell_type": "code",
      "metadata": {
        "id": "g-Mi6w5NTc-x"
      },
      "source": [
        "from PIL import Image, ImageOps\n",
        "from IPython.display import display\n",
        "import random\n",
        "import json"
      ],
      "execution_count": 1,
      "outputs": []
    },
    {
      "cell_type": "code",
      "metadata": {
        "colab": {
          "base_uri": "https://localhost:8080/",
          "height": 0
        },
        "id": "gdyGFX2qF2n1",
        "outputId": "5d45f6b5-826a-4d1f-c288-2e12725ebc1f"
      },
      "source": [
        "pwd"
      ],
      "execution_count": 2,
      "outputs": [
        {
          "output_type": "execute_result",
          "data": {
            "application/vnd.google.colaboratory.intrinsic+json": {
              "type": "string"
            },
            "text/plain": [
              "'/content'"
            ]
          },
          "metadata": {},
          "execution_count": 2
        }
      ]
    },
    {
      "cell_type": "code",
      "metadata": {
        "id": "cCRM9WhLEo1S"
      },
      "source": [
        "!rm -rf /content/NFT_image_generation"
      ],
      "execution_count": 3,
      "outputs": []
    },
    {
      "cell_type": "code",
      "metadata": {
        "colab": {
          "base_uri": "https://localhost:8080/"
        },
        "id": "U7TqAb53Ggpl",
        "outputId": "94bfafdf-7277-41dd-9aef-5f3ef069f177"
      },
      "source": [
        "!git clone https://gkiri@github.com/gkiri/NFT_image_generation.git"
      ],
      "execution_count": 4,
      "outputs": [
        {
          "output_type": "stream",
          "name": "stdout",
          "text": [
            "Cloning into 'NFT_image_generation'...\n",
            "remote: Enumerating objects: 141, done.\u001b[K\n",
            "remote: Counting objects: 100% (141/141), done.\u001b[K\n",
            "remote: Compressing objects: 100% (118/118), done.\u001b[K\n",
            "remote: Total 141 (delta 19), reused 129 (delta 16), pack-reused 0\u001b[K\n",
            "Receiving objects: 100% (141/141), 2.18 MiB | 12.35 MiB/s, done.\n",
            "Resolving deltas: 100% (19/19), done.\n"
          ]
        }
      ]
    },
    {
      "cell_type": "code",
      "metadata": {
        "colab": {
          "base_uri": "https://localhost:8080/"
        },
        "id": "q6Lqec-2JvLO",
        "outputId": "21a013ac-58d5-48bc-adcb-ad8e3bba6ff0"
      },
      "source": [
        "cd NFT_image_generation/"
      ],
      "execution_count": 5,
      "outputs": [
        {
          "output_type": "stream",
          "name": "stdout",
          "text": [
            "/content/NFT_image_generation\n"
          ]
        }
      ]
    },
    {
      "cell_type": "code",
      "metadata": {
        "id": "b6NMp_UxKbQp",
        "colab": {
          "base_uri": "https://localhost:8080/",
          "height": 0
        },
        "outputId": "b71e89a1-d30e-411b-8e74-bbe693664737"
      },
      "source": [
        "pwd"
      ],
      "execution_count": 6,
      "outputs": [
        {
          "output_type": "execute_result",
          "data": {
            "application/vnd.google.colaboratory.intrinsic+json": {
              "type": "string"
            },
            "text/plain": [
              "'/content/NFT_image_generation'"
            ]
          },
          "metadata": {},
          "execution_count": 6
        }
      ]
    },
    {
      "cell_type": "markdown",
      "metadata": {
        "id": "RsoHpwt9Kd7S"
      },
      "source": [
        "# Labelling"
      ]
    },
    {
      "cell_type": "code",
      "metadata": {
        "id": "giFRHm0uKg7H"
      },
      "source": [
        "### NECESSARY INFO\n",
        "\n",
        "#backgrounds = [\"darkblue\", \"grey\", \"greyblue\", \"orange\", \"pink\", \"purple\",\n",
        "#               \"red\", \"redbrown\",\"skyblue\" ,\"litegreen\", \"litegrey\", \"liteorange\",\n",
        "#               \"litepink\", \"litepurple\", \"liteyellow\"] \n",
        "backgrounds = [\"bg1\", \"bg2\", \"bg3\", \"bg4\", \"bg5\", \"bg6\",\n",
        "               \"bg7\", \"bg8\",\"bg9\" ,\"bg10\", \"bg11\", \"bg12\",\n",
        "               \"bg13\", \"bg14\", \"bg15\"] \n",
        "\n",
        "backgroundweights = [7,8,6,7,7,9,7,8,5,8,5,5,5,8,5]\n"
      ],
      "execution_count": 7,
      "outputs": []
    },
    {
      "cell_type": "code",
      "metadata": {
        "colab": {
          "base_uri": "https://localhost:8080/"
        },
        "id": "UzMtGWYeLzks",
        "outputId": "19166c91-58ed-43c0-87a4-e6275dc1ad2d"
      },
      "source": [
        "print(\"No:of bgs=\",len(backgrounds))\n",
        "print(\"No:of bg weights=\",len(backgroundweights))"
      ],
      "execution_count": 8,
      "outputs": [
        {
          "output_type": "stream",
          "name": "stdout",
          "text": [
            "No:of bgs= 15\n",
            "No:of bg weights= 15\n"
          ]
        }
      ]
    },
    {
      "cell_type": "code",
      "metadata": {
        "id": "LCOAs8n5RsmE"
      },
      "source": [
        "#body = [\"blue\",\"bluev2\",\"brown\",\"darkbrownv2\",\"darkredv2\",\"green\",\"litegreen\",\"litegreenv2\",\"literedv2\",\n",
        "        \n",
        "#        \"liteyellowv2\",\"pink\",\"purple\",\"purplev2\",\"red\",\"redbrown\",\"skyblue\",\"yellow\",\"yellowpinkv2\"  ]\n",
        "\n",
        "body = [\"b1\",\"b2\",\"b3\",\"b4\",\"b5\",\"b6\",\"b7\",\"b8\",\"b9\",\"b10\",\"b11\",\"b12\",\"b13\",\"b14\",\"b15\",\"b16\",\"b17\",\"b18\"  ]\n",
        "\n",
        "bodyweights=[7,4,7,8,8,7,3,2,5,4,7,7,7,7,6,4,5,2 ]"
      ],
      "execution_count": 9,
      "outputs": []
    },
    {
      "cell_type": "code",
      "metadata": {
        "colab": {
          "base_uri": "https://localhost:8080/"
        },
        "id": "o1gHiufxWGoj",
        "outputId": "361a257f-dde0-4cc9-ed4e-3ee11fbd4e94"
      },
      "source": [
        "print(\"No:of peacocks=\",len(body))\n",
        "print(\"No:of peacock weights=\",len(bodyweights))"
      ],
      "execution_count": 10,
      "outputs": [
        {
          "output_type": "stream",
          "name": "stdout",
          "text": [
            "No:of peacocks= 18\n",
            "No:of peacock weights= 18\n"
          ]
        }
      ]
    },
    {
      "cell_type": "code",
      "metadata": {
        "id": "6P8z8beSWNcL"
      },
      "source": [
        "#crowns= [\"empty\",\"blue_jewels\",\"blue_platinum\",\"gold\",\"gold_gems\",\"gold_purple\",\"gold_stones\",\"green_platinum\",     \n",
        "#        \"pink_leaves\",\"plain_platinum\",\"purple\",\"purple_platinum\",\"rainbow\",\"red_jewels\",\"red_platinum\",\"red_heart\",\"skyblue_gems\"]\n",
        "crowns= [\"c1\",\"c2\",\"c3\",\"c4\",\"c5\",\"c6\",\"c7\",\"c8\",\"c9\",\"c10\",\"c11\",\"c12\",\"c13\",\"c14\",\"c15\",\"c16\",\"c17\"]\n",
        "crownweights=[6,6,8,6,5,7,7,7,3,5,7,8,3,7,8,5,2]"
      ],
      "execution_count": 11,
      "outputs": []
    },
    {
      "cell_type": "markdown",
      "metadata": {
        "id": "javqFTEd1Uq_"
      },
      "source": [
        ""
      ]
    },
    {
      "cell_type": "code",
      "metadata": {
        "colab": {
          "base_uri": "https://localhost:8080/"
        },
        "id": "Onh2tEodcLTH",
        "outputId": "b67ca910-ceec-4c01-ee91-e636d18b2dfb"
      },
      "source": [
        "print(\"No:of peacocks=\",len(crowns))\n",
        "print(\"No:of peacocks=\",len(crownweights))"
      ],
      "execution_count": 12,
      "outputs": [
        {
          "output_type": "stream",
          "name": "stdout",
          "text": [
            "No:of peacocks= 17\n",
            "No:of peacocks= 17\n"
          ]
        }
      ]
    },
    {
      "cell_type": "code",
      "metadata": {
        "id": "xTczUmc1cNhT"
      },
      "source": [
        "#feathers =[\"empty\" ,\"black_eth\",\"bluewhite_eth\",\"brown_eth\",\"btc\",\"gold_eth\",\"grey_eth\",\"litegreen_eth\",\n",
        "#           \"pink_eth\",\"purple_eth\"]\n",
        "feathers =[\"f1\",\"f2\",\"f3\",\"f4\",\"f5\",\"f6\",\"f7\",\"f8\",\"f9\",\"f10\"]\n",
        "featherweights=[35,10,4,7,5,10,2,10,6,11]"
      ],
      "execution_count": 13,
      "outputs": []
    },
    {
      "cell_type": "code",
      "metadata": {
        "colab": {
          "base_uri": "https://localhost:8080/"
        },
        "id": "KEMBIYA0hUmL",
        "outputId": "f10669b5-4b6c-4bf6-9116-41ecdd57915c"
      },
      "source": [
        "print(\"No:of peacocks=\",len(feathers))\n",
        "print(\"No:of peacocks=\",len(featherweights))"
      ],
      "execution_count": 14,
      "outputs": [
        {
          "output_type": "stream",
          "name": "stdout",
          "text": [
            "No:of peacocks= 10\n",
            "No:of peacocks= 10\n"
          ]
        }
      ]
    },
    {
      "cell_type": "code",
      "metadata": {
        "id": "18HgY7fsibxA"
      },
      "source": [
        "#glasses=[\"empty\",\"3d\",\"blue\",\"brown\",\"green\",\"orange\",\"pinkhearts\",\"plain\",\"purple\",\"rainbow\",\"red\"]\n",
        "glasses=[\"g1\",\"g2\",\"g3\",\"g4\",\"g5\",\"g6\",\"g7\",\"g8\",\"g9\",\"g10\",\"g11\"]\n",
        "glassweights=[35,5,8,7,5,7,2,5,8,7,11]"
      ],
      "execution_count": 15,
      "outputs": []
    },
    {
      "cell_type": "code",
      "metadata": {
        "colab": {
          "base_uri": "https://localhost:8080/"
        },
        "id": "QL19HqS1irGA",
        "outputId": "081b053a-bc2a-4517-c266-b653bca50a3e"
      },
      "source": [
        "print(\"No:of peacocks=\",len(glasses))\n",
        "print(\"No:of peacocks=\",len(glassweights))"
      ],
      "execution_count": 16,
      "outputs": [
        {
          "output_type": "stream",
          "name": "stdout",
          "text": [
            "No:of peacocks= 11\n",
            "No:of peacocks= 11\n"
          ]
        }
      ]
    },
    {
      "cell_type": "code",
      "metadata": {
        "id": "imbSyb-JnO6W"
      },
      "source": [
        "#necklace=[\"empty\",\"black_blacketh\",\"black_blueeth\",\"black_btc\",\"black_darkblueeth\",\n",
        "#          \"black_redeth\",\"blue_blacketh\",\"blue_btc\",\"blue_redeth\",\"brown_blacketh\",\n",
        "#          \"brown_blueeth\",\"brown_btc\",\"brown_darkblueeth\",\"brown_redeth\",\"green_blacketh\",\n",
        "#          \"greenblue_blacketh\",\"greenblue_blueeth\",\"purple_btc\",\"red_blueeth\"]\n",
        "\n",
        "necklaces=[\"n1\",\"n2\",\"n3\",\"n4\",\"n5\",\"n6\",\"n7\",\"n8\",\"n9\",\"n10\",\"n11\",\"n12\",\"n13\",\"n14\",\"n15\",\n",
        "          \"n16\",\"n17\",\"n18\",\"n19\"]\n",
        "necklaceweights=[5,8,8,6,4,7,7,5,5,5,7,5,5,7,8,5,3,3,5]"
      ],
      "execution_count": 17,
      "outputs": []
    },
    {
      "cell_type": "code",
      "metadata": {
        "colab": {
          "base_uri": "https://localhost:8080/"
        },
        "id": "-8mM77Svn6H5",
        "outputId": "373cc991-247d-490b-ceec-283ae2e4ea01"
      },
      "source": [
        "print(\"No:of peacocks=\",len(necklaces))\n",
        "print(\"No:of peacocks=\",len(necklaceweights))"
      ],
      "execution_count": 18,
      "outputs": [
        {
          "output_type": "stream",
          "name": "stdout",
          "text": [
            "No:of peacocks= 19\n",
            "No:of peacocks= 19\n"
          ]
        }
      ]
    },
    {
      "cell_type": "code",
      "metadata": {
        "id": "yom65Ahen6it"
      },
      "source": [
        "#treasure=[\"empty\",\"cointreasure\",\"diamonds_gold\",\"eth_coin\",\"eth_gold\",\"goldcoins\",\n",
        "#          \"goldeneggs\",\"pearls\",\"pearls_gold\",\"stones_gold\"]\n",
        "\n",
        "treasures=[\"t1\",\"t2\",\"t3\",\"t4\",\"t5\",\"t6\",\"t7\",\"t8\",\"t9\",\"t10\"]\n",
        "treasureweights =[10,15,15,8,8,12,2,7,8,15]    "
      ],
      "execution_count": 19,
      "outputs": []
    },
    {
      "cell_type": "code",
      "metadata": {
        "colab": {
          "base_uri": "https://localhost:8080/"
        },
        "id": "NEZQVDu2qXA6",
        "outputId": "2eb2187c-b03b-476f-ea37-f42cb24c2826"
      },
      "source": [
        "print(\"No:of peacocks=\",len(treasures))\n",
        "print(\"No:of peacocks=\",len(treasureweights))"
      ],
      "execution_count": 20,
      "outputs": [
        {
          "output_type": "stream",
          "name": "stdout",
          "text": [
            "No:of peacocks= 10\n",
            "No:of peacocks= 10\n"
          ]
        }
      ]
    },
    {
      "cell_type": "code",
      "metadata": {
        "id": "OwHOLw16qbeu"
      },
      "source": [
        ""
      ],
      "execution_count": 20,
      "outputs": []
    },
    {
      "cell_type": "markdown",
      "metadata": {
        "id": "VCpOANnkvDzg"
      },
      "source": [
        "# Filenames"
      ]
    },
    {
      "cell_type": "code",
      "metadata": {
        "id": "Pdo0iGHzvfsj"
      },
      "source": [
        "\n",
        "backgroundfiles = {\n",
        "    \"bg1\": \"darkblue\",\n",
        "    \"bg2\": \"grey\",\n",
        "    \"bg3\": \"greyblue\",\n",
        "    \"bg4\": \"orange\",\n",
        "    \"bg5\": \"pink\",\n",
        "    \"bg6\": \"purple\",\n",
        "    \"bg7\": \"red\",\n",
        "    \"bg8\": \"redbrown\",\n",
        "    \"bg9\": \"skyblue\",\n",
        "    \"bg10\": \"litegreen\",\n",
        "    \"bg11\": \"litegrey\",\n",
        "    \"bg12\": \"liteorange\",\n",
        "    \"bg13\": \"litepink\",\n",
        "    \"bg14\": \"litepurple\",\n",
        "    \"bg15\": \"liteyellow\"\n",
        "}"
      ],
      "execution_count": 21,
      "outputs": []
    },
    {
      "cell_type": "code",
      "metadata": {
        "id": "mk05wcApyfA1"
      },
      "source": [
        "\n",
        "bodyfiles = {\n",
        "    \"b1\" : \"blue\",\n",
        "    \"b2\" : \"bluev2\",\n",
        "    \"b3\" : \"brown\",\n",
        "    \"b4\" : \"darkbrownv2\",\n",
        "    \"b5\" : \"darkredv2\",\n",
        "    \"b6\" : \"green\",\n",
        "    \"b7\" : \"litegreen\",\n",
        "    \"b8\" : \"litegreenv2\",\n",
        "    \"b9\" : \"literedv2\",\n",
        "    \"b10\" : \"liteyellowv2\",\n",
        "    \"b11\" : \"pink\",\n",
        "    \"b12\" : \"purple\",\n",
        "    \"b13\" : \"purplev2\",\n",
        "    \"b14\" : \"red\",\n",
        "    \"b15\" : \"redbrown\",\n",
        "    \"b16\" : \"skyblue\",\n",
        "    \"b17\" : \"yellow\",\n",
        "    \"b18\" : \"yellowpinkv2\"\n",
        "}"
      ],
      "execution_count": 22,
      "outputs": []
    },
    {
      "cell_type": "code",
      "metadata": {
        "id": "7YcL-3rM0B5y"
      },
      "source": [
        "\n",
        "crownfiles = {\n",
        "    \"c1\" : \"empty\",\n",
        "    \"c2\" : \"blue_jewels\",\n",
        "    \"c3\" : \"blue_platinum\",\n",
        "    \"c4\" : \"gold\",\n",
        "    \"c5\" : \"gold_gems\",\n",
        "    \"c6\" : \"gold_purple\",\n",
        "    \"c7\" : \"gold_stones\",\n",
        "    \"c8\" : \"green_platinum\",\n",
        "    \"c9\" : \"pink_leaves\",\n",
        "    \"c10\" : \"plain_platinum\",\n",
        "    \"c11\" : \"purple\",\n",
        "    \"c12\" : \"purple_platinum\",\n",
        "    \"c13\" : \"rainbow\",\n",
        "    \"c14\" : \"red_jewels\",\n",
        "    \"c15\" : \"red_platinum\",\n",
        "    \"c16\" : \"red_heart\",\n",
        "    \"c17\" : \"skyblue_gems\"\n",
        "}"
      ],
      "execution_count": 23,
      "outputs": []
    },
    {
      "cell_type": "code",
      "metadata": {
        "id": "aU3iFkaZz5xS"
      },
      "source": [
        "\n",
        "featherfiles = {\n",
        "    \"f1\" : \"empty\",\n",
        "    \"f2\" : \"black_eth\",\n",
        "    \"f3\" : \"bluewhite_eth\",\n",
        "    \"f4\" : \"brown_eth\",\n",
        "    \"f5\" : \"btc\",\n",
        "    \"f6\" : \"gold_eth\",\n",
        "    \"f7\" : \"grey_eth\",\n",
        "    \"f8\" : \"litegreen_eth\",\n",
        "    \"f9\" : \"pink_eth\",\n",
        "    \"f10\" : \"purple_eth\"\n",
        "}"
      ],
      "execution_count": 24,
      "outputs": []
    },
    {
      "cell_type": "code",
      "metadata": {
        "id": "B-es-dQ62FaA"
      },
      "source": [
        "\n",
        "glassfiles={\n",
        "    \"g1\" : \"empty\",\n",
        "    \"g2\" : \"3d\",\n",
        "    \"g3\" : \"blue\",\n",
        "    \"g4\" : \"brown\",\n",
        "    \"g5\" : \"green\",\n",
        "    \"g6\" : \"orange\",\n",
        "    \"g7\" : \"pinkhearts\",\n",
        "    \"g8\" : \"plain\",\n",
        "    \"g9\" : \"purple\",\n",
        "    \"g10\" : \"rainbow\",    \n",
        "    \"g11\" : \"red\"\n",
        "\n",
        "\n",
        "}"
      ],
      "execution_count": 25,
      "outputs": []
    },
    {
      "cell_type": "code",
      "metadata": {
        "id": "TxTD5eia3q0x"
      },
      "source": [
        "\n",
        "necklacefiles = {\n",
        "    \"n1\" : \"empty\",\n",
        "    \"n2\" : \"black_blacketh\",\n",
        "    \"n3\" : \"black_blueeth\",\n",
        "    \"n4\" : \"black_btc\",\n",
        "    \"n5\" : \"black_darkblueeth\",\n",
        "    \"n6\" : \"black_redeth\",\n",
        "    \"n7\" : \"blue_blacketh\",\n",
        "    \"n8\" : \"blue_btc\",\n",
        "    \"n9\" : \"blue_redeth\",\n",
        "    \"n10\" : \"brown_blacketh\",\n",
        "    \"n11\" : \"brown_blueeth\",\n",
        "    \"n12\" : \"brown_btc\",\n",
        "    \"n13\" : \"brown_darkblueeth\",\n",
        "    \"n14\" : \"brown_redeth\",\n",
        "    \"n15\" : \"green_blacketh\",\n",
        "    \"n16\" : \"greenblue_blacketh\",\n",
        "    \"n17\" : \"greenblue_blueeth\",\n",
        "    \"n18\" : \"purple_btc\",\n",
        "    \"n19\" : \"red_blueeth\"\n",
        "}"
      ],
      "execution_count": 26,
      "outputs": []
    },
    {
      "cell_type": "code",
      "metadata": {
        "id": "gqx7uC383z8z"
      },
      "source": [
        "\n",
        "treasurefiles = {\n",
        "    \"t1\" : \"empty\",\n",
        "    \"t2\" : \"cointreasure\",\n",
        "    \"t3\" : \"diamonds_gold\",\n",
        "    \"t4\" : \"eth_coin\",\n",
        "    \"t5\" : \"eth_gold\",\n",
        "    \"t6\" : \"goldcoins\",\n",
        "    \"t7\" : \"goldeneggs\",\n",
        "    \"t8\" : \"pearls\",\n",
        "    \"t9\" : \"pearls_gold\",\n",
        "    \"t10\" : \"stones_gold\"\n",
        "}"
      ],
      "execution_count": 27,
      "outputs": []
    },
    {
      "cell_type": "code",
      "metadata": {
        "id": "YJPeu6Qh40tx"
      },
      "source": [
        ""
      ],
      "execution_count": 27,
      "outputs": []
    },
    {
      "cell_type": "markdown",
      "metadata": {
        "id": "3b-YS-Hx41Rc"
      },
      "source": [
        "# Verification of quantity and files"
      ]
    },
    {
      "cell_type": "code",
      "metadata": {
        "id": "5-hwg2hE45GB"
      },
      "source": [
        "def verify_weightage(lst):\n",
        "  sum=0\n",
        "  for i in lst:\n",
        "    sum = sum + i\n",
        "  print(sum)\n"
      ],
      "execution_count": 28,
      "outputs": []
    },
    {
      "cell_type": "code",
      "metadata": {
        "colab": {
          "base_uri": "https://localhost:8080/"
        },
        "id": "U_jawDjr5Rcu",
        "outputId": "b16c8035-a21d-4583-8217-393ce798fb5b"
      },
      "source": [
        "verify_weightage(backgroundweights)\n",
        "verify_weightage(bodyweights)\n",
        "verify_weightage(crownweights)\n",
        "verify_weightage(glassweights)\n",
        "verify_weightage(necklaceweights)\n",
        "verify_weightage(treasureweights)"
      ],
      "execution_count": 29,
      "outputs": [
        {
          "output_type": "stream",
          "name": "stdout",
          "text": [
            "100\n",
            "100\n",
            "100\n",
            "100\n",
            "108\n",
            "100\n"
          ]
        }
      ]
    },
    {
      "cell_type": "code",
      "metadata": {
        "id": "A8VSoOG95YO4"
      },
      "source": [
        ""
      ],
      "execution_count": 29,
      "outputs": []
    },
    {
      "cell_type": "markdown",
      "metadata": {
        "id": "Bh6Yo2dN5rDs"
      },
      "source": [
        "# Traits Generation"
      ]
    },
    {
      "cell_type": "code",
      "metadata": {
        "id": "ijbNFanc5tk3"
      },
      "source": [
        "## TRAIT GENERATION\n",
        "\n",
        "#TOTAL_PEACOCKS = 8888\n",
        "TOTAL_PEACOCKS = 10\n",
        "traits = []\n",
        "\n",
        "def createCombo():\n",
        "    \n",
        "    trait = {}\n",
        "\n",
        "    trait[\"background\"] = random.choices(backgrounds, backgroundweights)[0]\n",
        "    trait[\"body\"] = random.choices(body, bodyweights)[0]\n",
        "    trait[\"crown\"] = random.choices(crowns, crownweights)[0]\n",
        "    trait[\"feather\"] = random.choices(feathers, featherweights)[0]\n",
        "    trait[\"glass\"] = random.choices(glasses, glassweights)[0]\n",
        "    trait[\"necklace\"] = random.choices(necklaces, necklaceweights)[0]\n",
        "    trait[\"treasure\"] = random.choices(treasures, treasureweights)[0]\n",
        "\n",
        "\n",
        "    if trait in traits:\n",
        "        return createCombo()\n",
        "    else:\n",
        "        return trait\n",
        "    \n",
        "for i in range(TOTAL_PEACOCKS):\n",
        "    \n",
        "    newtraitcombo = createCombo()\n",
        "    \n",
        "    traits.append(newtraitcombo)"
      ],
      "execution_count": 30,
      "outputs": []
    },
    {
      "cell_type": "code",
      "metadata": {
        "colab": {
          "base_uri": "https://localhost:8080/"
        },
        "id": "R2ElAV8N6sVX",
        "outputId": "8b7a4914-8477-43c7-8f2c-24ab96c2139b"
      },
      "source": [
        "# Total combinations we computed\n",
        "len(traits)"
      ],
      "execution_count": 31,
      "outputs": [
        {
          "output_type": "execute_result",
          "data": {
            "text/plain": [
              "10"
            ]
          },
          "metadata": {},
          "execution_count": 31
        }
      ]
    },
    {
      "cell_type": "code",
      "metadata": {
        "colab": {
          "base_uri": "https://localhost:8080/"
        },
        "id": "TjiJLwGY6v0U",
        "outputId": "29804a60-d755-4e16-95a5-c8d8e1622c9f"
      },
      "source": [
        "## ARE ALL BANANAS UNIQUE? I DUNNO HOW THIS WORKS BUT IT WORKS\n",
        "def allUnique(x):\n",
        "    seen = list()\n",
        "    return not any(i in seen or seen.append(i) for i in x)\n",
        "\n",
        "print(allUnique(traits))"
      ],
      "execution_count": 32,
      "outputs": [
        {
          "output_type": "stream",
          "name": "stdout",
          "text": [
            "True\n"
          ]
        }
      ]
    },
    {
      "cell_type": "code",
      "metadata": {
        "id": "_dXuOegX6w4O"
      },
      "source": [
        "# ADD TOKEN IDS TO JSON\n",
        "\n",
        "i = 0\n",
        "for item in traits:\n",
        "    item[\"tokenId\"] = i\n",
        "    i = i + 1"
      ],
      "execution_count": 33,
      "outputs": []
    },
    {
      "cell_type": "code",
      "metadata": {
        "colab": {
          "base_uri": "https://localhost:8080/"
        },
        "id": "VGfKWmUt60aI",
        "outputId": "7cca068a-b380-4570-85af-0faaa5cacf73"
      },
      "source": [
        "\n",
        "# PRINT THE traits\n",
        "\n",
        "print(traits)"
      ],
      "execution_count": 34,
      "outputs": [
        {
          "output_type": "stream",
          "name": "stdout",
          "text": [
            "[{'background': 'bg6', 'body': 'b9', 'crown': 'c15', 'feather': 'f6', 'glass': 'g3', 'necklace': 'n1', 'treasure': 't6', 'tokenId': 0}, {'background': 'bg8', 'body': 'b4', 'crown': 'c3', 'feather': 'f9', 'glass': 'g3', 'necklace': 'n3', 'treasure': 't2', 'tokenId': 1}, {'background': 'bg3', 'body': 'b18', 'crown': 'c7', 'feather': 'f2', 'glass': 'g6', 'necklace': 'n5', 'treasure': 't6', 'tokenId': 2}, {'background': 'bg6', 'body': 'b17', 'crown': 'c4', 'feather': 'f1', 'glass': 'g4', 'necklace': 'n11', 'treasure': 't3', 'tokenId': 3}, {'background': 'bg13', 'body': 'b17', 'crown': 'c2', 'feather': 'f4', 'glass': 'g1', 'necklace': 'n1', 'treasure': 't2', 'tokenId': 4}, {'background': 'bg10', 'body': 'b2', 'crown': 'c1', 'feather': 'f8', 'glass': 'g3', 'necklace': 'n1', 'treasure': 't1', 'tokenId': 5}, {'background': 'bg6', 'body': 'b3', 'crown': 'c7', 'feather': 'f7', 'glass': 'g3', 'necklace': 'n11', 'treasure': 't10', 'tokenId': 6}, {'background': 'bg8', 'body': 'b1', 'crown': 'c14', 'feather': 'f8', 'glass': 'g6', 'necklace': 'n8', 'treasure': 't2', 'tokenId': 7}, {'background': 'bg10', 'body': 'b4', 'crown': 'c12', 'feather': 'f6', 'glass': 'g9', 'necklace': 'n8', 'treasure': 't9', 'tokenId': 8}, {'background': 'bg14', 'body': 'b10', 'crown': 'c5', 'feather': 'f5', 'glass': 'g1', 'necklace': 'n5', 'treasure': 't3', 'tokenId': 9}]\n"
          ]
        }
      ]
    },
    {
      "cell_type": "code",
      "metadata": {
        "colab": {
          "base_uri": "https://localhost:8080/"
        },
        "id": "fS-tzDSo62oj",
        "outputId": "dae5c9af-aab6-43f1-c0ae-39052584fd08"
      },
      "source": [
        "# GET TRAIT COUNTS\n",
        "\n",
        "backgroundcounts = {}\n",
        "for item in backgrounds:\n",
        "    backgroundcounts[item] = 0\n",
        "    \n",
        "bodycounts = {}\n",
        "for item in body:\n",
        "    bodycounts[item] = 0\n",
        "\n",
        "crowncounts = {}\n",
        "for item in crowns:\n",
        "    crowncounts[item] = 0\n",
        "    \n",
        "feathercounts = {}\n",
        "for item in feathers:\n",
        "    feathercounts[item] = 0\n",
        "    \n",
        "glasscounts = {}\n",
        "for item in glasses:\n",
        "    glasscounts[item] = 0\n",
        "\n",
        "necklacecounts = {}\n",
        "for item in necklaces:\n",
        "    necklacecounts[item] = 0\n",
        "    \n",
        "treasurecounts = {}\n",
        "for item in treasures:\n",
        "    treasurecounts[item] = 0    \n",
        "oneofonecounts = 0\n",
        "\n",
        "#signatures = [137,883,1327,1781,2528,2763,3833,5568,5858,6585,6812,7154,8412]\n",
        "signatures = [2,4]\n",
        "\n",
        "for banana in traits:\n",
        "    if banana[\"tokenId\"] in signatures:\n",
        "        oneofonecounts += 1\n",
        "    else:    \n",
        "#     print(banana)\n",
        "        backgroundcounts[banana[\"background\"]] += 1\n",
        "        bodycounts[banana[\"body\"]] += 1\n",
        "        crowncounts[banana[\"crown\"]] += 1\n",
        "        feathercounts[banana[\"feather\"]] += 1\n",
        "        glasscounts[banana[\"glass\"]] += 1\n",
        "        necklacecounts[banana[\"necklace\"]] += 1\n",
        "        treasurecounts[banana[\"treasure\"]] += 1\n",
        "    \n",
        "print(\"background:\", backgroundcounts)\n",
        "print(\"bodycounts:\", bodycounts)\n",
        "print(\"crowncounts:\", crowncounts)\n",
        "print(\"feathercounts:\", feathercounts)\n",
        "print(\"glasscounts:\", glasscounts)\n",
        "print(\"necklacecounts:\",necklacecounts)\n",
        "print(\"treasurecounts:\",treasurecounts)"
      ],
      "execution_count": 35,
      "outputs": [
        {
          "output_type": "stream",
          "name": "stdout",
          "text": [
            "background: {'bg1': 0, 'bg2': 0, 'bg3': 0, 'bg4': 0, 'bg5': 0, 'bg6': 3, 'bg7': 0, 'bg8': 2, 'bg9': 0, 'bg10': 2, 'bg11': 0, 'bg12': 0, 'bg13': 0, 'bg14': 1, 'bg15': 0}\n",
            "bodycounts: {'b1': 1, 'b2': 1, 'b3': 1, 'b4': 2, 'b5': 0, 'b6': 0, 'b7': 0, 'b8': 0, 'b9': 1, 'b10': 1, 'b11': 0, 'b12': 0, 'b13': 0, 'b14': 0, 'b15': 0, 'b16': 0, 'b17': 1, 'b18': 0}\n",
            "crowncounts: {'c1': 1, 'c2': 0, 'c3': 1, 'c4': 1, 'c5': 1, 'c6': 0, 'c7': 1, 'c8': 0, 'c9': 0, 'c10': 0, 'c11': 0, 'c12': 1, 'c13': 0, 'c14': 1, 'c15': 1, 'c16': 0, 'c17': 0}\n",
            "feathercounts: {'f1': 1, 'f2': 0, 'f3': 0, 'f4': 0, 'f5': 1, 'f6': 2, 'f7': 1, 'f8': 2, 'f9': 1, 'f10': 0}\n",
            "glasscounts: {'g1': 1, 'g2': 0, 'g3': 4, 'g4': 1, 'g5': 0, 'g6': 1, 'g7': 0, 'g8': 0, 'g9': 1, 'g10': 0, 'g11': 0}\n",
            "necklacecounts: {'n1': 2, 'n2': 0, 'n3': 1, 'n4': 0, 'n5': 1, 'n6': 0, 'n7': 0, 'n8': 2, 'n9': 0, 'n10': 0, 'n11': 2, 'n12': 0, 'n13': 0, 'n14': 0, 'n15': 0, 'n16': 0, 'n17': 0, 'n18': 0, 'n19': 0}\n",
            "treasurecounts: {'t1': 1, 't2': 2, 't3': 2, 't4': 0, 't5': 0, 't6': 1, 't7': 0, 't8': 0, 't9': 1, 't10': 1}\n"
          ]
        }
      ]
    },
    {
      "cell_type": "code",
      "metadata": {
        "id": "So4hvWii8Z0l"
      },
      "source": [
        "# WRITE METADATA TO JSON FILE\n",
        "\n",
        "with open('traits_solana.json', 'w') as outfile:\n",
        "    json.dump(traits, outfile, indent=4)"
      ],
      "execution_count": 36,
      "outputs": []
    },
    {
      "cell_type": "code",
      "metadata": {
        "colab": {
          "base_uri": "https://localhost:8080/"
        },
        "id": "4Vien8Su8fzY",
        "outputId": "12762bcc-aba6-4fe9-8953-624ee7613afc"
      },
      "source": [
        "backgroundfiles"
      ],
      "execution_count": 37,
      "outputs": [
        {
          "output_type": "execute_result",
          "data": {
            "text/plain": [
              "{'bg1': 'darkblue',\n",
              " 'bg10': 'litegreen',\n",
              " 'bg11': 'litegrey',\n",
              " 'bg12': 'liteorange',\n",
              " 'bg13': 'litepink',\n",
              " 'bg14': 'litepurple',\n",
              " 'bg15': 'liteyellow',\n",
              " 'bg2': 'grey',\n",
              " 'bg3': 'greyblue',\n",
              " 'bg4': 'orange',\n",
              " 'bg5': 'pink',\n",
              " 'bg6': 'purple',\n",
              " 'bg7': 'red',\n",
              " 'bg8': 'redbrown',\n",
              " 'bg9': 'skyblue'}"
            ]
          },
          "metadata": {},
          "execution_count": 37
        }
      ]
    },
    {
      "cell_type": "code",
      "metadata": {
        "colab": {
          "base_uri": "https://localhost:8080/"
        },
        "id": "96KsAd7K8lrX",
        "outputId": "780b8df3-833a-4c60-ec88-167062e6368a"
      },
      "source": [
        "#### IMAGE GENERATION\n",
        "    \n",
        "for item in traits:\n",
        "\n",
        "    print(backgroundfiles[item[\"background\"]])\n",
        "    im1 = Image.open(f'./trait-layers/backgrounds/{backgroundfiles[item[\"background\"]]}.png').convert('RGBA')\n",
        "    im2 = Image.open(f'./trait-layers/body/{bodyfiles[item[\"body\"]]}.png').convert('RGBA')\n",
        "    im3 = Image.open(f'./trait-layers/crowns/{crownfiles[item[\"crown\"]]}.png').convert('RGBA')\n",
        "    im4 = Image.open(f'./trait-layers/feathers/{featherfiles[item[\"feather\"]]}.png').convert('RGBA')\n",
        "    im5 = Image.open(f'./trait-layers/glasses/{glassfiles[item[\"glass\"]]}.png').convert('RGBA')\n",
        "    im6 = Image.open(f'./trait-layers/necklaces/{necklacefiles[item[\"necklace\"]]}.png').convert('RGBA')\n",
        "    im7 = Image.open(f'./trait-layers/treasures/{treasurefiles[item[\"treasure\"]]}.png').convert('RGBA')\n",
        "\n",
        "\n",
        "    #Create each composite\n",
        "    com1 = Image.alpha_composite(im1, im2)\n",
        "    com2 = Image.alpha_composite(com1, im3)\n",
        "    com3 = Image.alpha_composite(com2, im4)\n",
        "    com4 = Image.alpha_composite(com3, im5)\n",
        "    com5 = Image.alpha_composite(com4, im6)\n",
        "    com6 = Image.alpha_composite(com5, im7)\n",
        "\n",
        "    #Convert to RGB\n",
        "    rgb_im = com6.convert('RGB')\n",
        "#     display(rgb_im.resize((400,400), Image.NEAREST))\n",
        "\n",
        "    file_name = str(item[\"tokenId\"]) + \".jpg\"\n",
        "    rgb_im.save(\"./output/\" + file_name)\n",
        "    print(f'{str(item[\"tokenId\"])} done')"
      ],
      "execution_count": 38,
      "outputs": [
        {
          "output_type": "stream",
          "name": "stdout",
          "text": [
            "purple\n",
            "0 done\n",
            "redbrown\n",
            "1 done\n",
            "greyblue\n",
            "2 done\n",
            "purple\n",
            "3 done\n",
            "litepink\n",
            "4 done\n",
            "litegreen\n",
            "5 done\n",
            "purple\n",
            "6 done\n",
            "redbrown\n",
            "7 done\n",
            "litegreen\n",
            "8 done\n",
            "litepurple\n",
            "9 done\n"
          ]
        }
      ]
    },
    {
      "cell_type": "code",
      "metadata": {
        "id": "rxCTbRYy9loZ"
      },
      "source": [
        ""
      ],
      "execution_count": 38,
      "outputs": []
    },
    {
      "cell_type": "code",
      "metadata": {
        "id": "VGcKY7HwJf_g"
      },
      "source": [
        ""
      ],
      "execution_count": 38,
      "outputs": []
    },
    {
      "cell_type": "markdown",
      "metadata": {
        "id": "7UB3qIVZJhOK"
      },
      "source": [
        "# JSON metadata generate"
      ]
    },
    {
      "cell_type": "code",
      "metadata": {
        "id": "lW4cYLG1Jjdk"
      },
      "source": [
        "\n",
        "# READ METADATA IF YOU ALREADY HAVE A JSON FILE\n",
        "\n",
        "with open('/content/NFT_image_generation/metadata/traitsfinal.json', 'w') as outfile:\n",
        "    json.dump(traits, outfile, indent=4)"
      ],
      "execution_count": 39,
      "outputs": []
    },
    {
      "cell_type": "code",
      "metadata": {
        "id": "DyVL0H0gJm6U"
      },
      "source": [
        ""
      ],
      "execution_count": 39,
      "outputs": []
    },
    {
      "cell_type": "code",
      "metadata": {
        "id": "hWr8nVLyJoQK"
      },
      "source": [
        ""
      ],
      "execution_count": 39,
      "outputs": []
    },
    {
      "cell_type": "markdown",
      "metadata": {
        "id": "yl_b2zJd3nmV"
      },
      "source": [
        "# Download to desktop"
      ]
    },
    {
      "cell_type": "code",
      "metadata": {
        "colab": {
          "base_uri": "https://localhost:8080/"
        },
        "id": "hiQoepy05Tex",
        "outputId": "a472f17f-f779-4034-bc05-c81acd19be3b"
      },
      "source": [
        "rm /content/NFT_image_generation/output/all_8888.zip"
      ],
      "execution_count": null,
      "outputs": [
        {
          "output_type": "stream",
          "name": "stdout",
          "text": [
            "rm: cannot remove '/content/NFT_image_generation/output/all_8888.zip': No such file or directory\n"
          ]
        }
      ]
    },
    {
      "cell_type": "code",
      "metadata": {
        "id": "ydtQLpKa3sia"
      },
      "source": [
        "#!cd /content/NFT_image_generation/output"
      ],
      "execution_count": null,
      "outputs": []
    },
    {
      "cell_type": "code",
      "metadata": {
        "id": "wGSX27Ik3pSp"
      },
      "source": [
        "# pip install zip unzip\n",
        "\n",
        "#!zip -r /content/all_8888.zip /content/NFT_image_generation/output"
      ],
      "execution_count": 38,
      "outputs": []
    },
    {
      "cell_type": "code",
      "metadata": {
        "id": "3SMsalc85Cp1"
      },
      "source": [
        ""
      ],
      "execution_count": null,
      "outputs": []
    },
    {
      "cell_type": "code",
      "metadata": {
        "id": "p2YWninzPr2G"
      },
      "source": [
        ""
      ],
      "execution_count": null,
      "outputs": []
    },
    {
      "cell_type": "markdown",
      "metadata": {
        "id": "aU5SiZ0cPmjJ"
      },
      "source": [
        "# Python and JSON Parsing Learn"
      ]
    },
    {
      "cell_type": "code",
      "metadata": {
        "colab": {
          "base_uri": "https://localhost:8080/",
          "height": 235
        },
        "id": "AIBgmMrxSpc8",
        "outputId": "957d991b-5367-4dbd-e1a5-8bd1c1ac9b2f"
      },
      "source": [
        "# Python and JSON Parsing Learn\n",
        "\n",
        "{\n",
        "  \"name\": \"SolPunk #2495\",\n",
        "  \"symbol\": \"\",\n",
        "  \"description\": \"SolPunk #2495 - Male\",\n",
        "  \"seller_fee_basis_points\": 500,\n",
        "  \"image\": \"https://arweave.net/gQcsBWB975DPAfeR2DovvrJ5q9gQiMG1qBwa3cNFRL0\",\n",
        "  \"external_url\": \"https://solpunks.com\",\n",
        "  \"attributes\": [\n",
        "    {\n",
        "      \"trait_type\": \"Rank\",\n",
        "      \"value\": 2483\n",
        "    },\n",
        "    {\n",
        "      \"trait_type\": \"Skin\",\n",
        "      \"value\": \"Albino\"\n",
        "    },\n",
        "    {\n",
        "      \"trait_type\": \"Type\",\n",
        "      \"value\": \"Male\"\n",
        "    },\n",
        "    {\n",
        "      \"trait_type\": \"Attribute 1\",\n",
        "      \"value\": \"Clown Hair Green\"\n",
        "    },\n",
        "    {\n",
        "      \"trait_type\": \"Attribute 2\",\n",
        "      \"value\": \"Vape\"\n",
        "    },\n",
        "    {\n",
        "      \"trait_type\": \"Attribute 3\",\n",
        "      \"value\": \"Mustache\"\n",
        "    },\n",
        "    {\n",
        "      \"trait_type\": \"Attribute 4\",\n",
        "      \"value\": \"Earring\"\n",
        "    },\n",
        "    {\n",
        "      \"trait_type\": \"Attribute Count\",\n",
        "      \"value\": 4\n",
        "    }\n",
        "  ],\n",
        "  \"properties\": {\n",
        "    \"creators\": [\n",
        "      {\n",
        "        \"address\": \"punknPuatYGcB6EM4Mt7q1qxz1PKhNiTmd1We1Srt9d\",\n",
        "        \"verified\": true,\n",
        "        \"share\": 100\n",
        "      }\n",
        "    ]\n",
        "  }\n",
        "}"
      ],
      "execution_count": 97,
      "outputs": [
        {
          "output_type": "error",
          "ename": "NameError",
          "evalue": "ignored",
          "traceback": [
            "\u001b[0;31m---------------------------------------------------------------------------\u001b[0m",
            "\u001b[0;31mNameError\u001b[0m                                 Traceback (most recent call last)",
            "\u001b[0;32m<ipython-input-97-a8b33721d93a>\u001b[0m in \u001b[0;36m<module>\u001b[0;34m()\u001b[0m\n\u001b[1;32m     46\u001b[0m       {\n\u001b[1;32m     47\u001b[0m         \u001b[0;34m\"address\"\u001b[0m\u001b[0;34m:\u001b[0m \u001b[0;34m\"punknPuatYGcB6EM4Mt7q1qxz1PKhNiTmd1We1Srt9d\"\u001b[0m\u001b[0;34m,\u001b[0m\u001b[0;34m\u001b[0m\u001b[0;34m\u001b[0m\u001b[0m\n\u001b[0;32m---> 48\u001b[0;31m         \u001b[0;34m\"verified\"\u001b[0m\u001b[0;34m:\u001b[0m \u001b[0mtrue\u001b[0m\u001b[0;34m,\u001b[0m\u001b[0;34m\u001b[0m\u001b[0;34m\u001b[0m\u001b[0m\n\u001b[0m\u001b[1;32m     49\u001b[0m         \u001b[0;34m\"share\"\u001b[0m\u001b[0;34m:\u001b[0m \u001b[0;36m100\u001b[0m\u001b[0;34m\u001b[0m\u001b[0;34m\u001b[0m\u001b[0m\n\u001b[1;32m     50\u001b[0m       }\n",
            "\u001b[0;31mNameError\u001b[0m: name 'true' is not defined"
          ]
        }
      ]
    },
    {
      "cell_type": "code",
      "metadata": {
        "id": "Nk_5BX4mW7ZR"
      },
      "source": [
        "# Lets Frame JSON Message for Solana\n",
        "import json\n",
        "\n",
        "metadata={  \"name\":\"\",\n",
        "  \"symbol\": \"\",\n",
        "  \"description\": \"\",\n",
        "  \"seller_fee_basis_points\": 0,\n",
        "  \"image\": \"\",\n",
        "  \"external_url\": \"\",\n",
        "  \"attributes\" : None,\n",
        "  \"properties\" : None\n",
        "  \n",
        "  }"
      ],
      "execution_count": 40,
      "outputs": []
    },
    {
      "cell_type": "code",
      "metadata": {
        "colab": {
          "base_uri": "https://localhost:8080/"
        },
        "id": "ZzQaa9vLXEYt",
        "outputId": "127881e7-156e-4eff-b76a-ea9607f472c1"
      },
      "source": [
        "print(json.dumps(metadata, indent = 4, sort_keys=False))"
      ],
      "execution_count": 41,
      "outputs": [
        {
          "output_type": "stream",
          "name": "stdout",
          "text": [
            "{\n",
            "    \"name\": \"\",\n",
            "    \"symbol\": \"\",\n",
            "    \"description\": \"\",\n",
            "    \"seller_fee_basis_points\": 0,\n",
            "    \"image\": \"\",\n",
            "    \"external_url\": \"\",\n",
            "    \"attributes\": null,\n",
            "    \"properties\": null\n",
            "}\n"
          ]
        }
      ]
    },
    {
      "cell_type": "code",
      "metadata": {
        "id": "iVFqK9elb4Wi"
      },
      "source": [
        "\n",
        "import json\n",
        "with open('/content/NFT_image_generation/traits_solana.json') as fd:\n",
        "  data = json.load(fd)\n"
      ],
      "execution_count": 42,
      "outputs": []
    },
    {
      "cell_type": "code",
      "metadata": {
        "id": "8JQSCENScqLp"
      },
      "source": [
        "attribute_list =[]\n",
        "attribute_list_with_names=[]\n",
        "for i in data:\n",
        "  attribute_list.append(i)\n",
        "\n",
        "for dict_ in attribute_list:\n",
        "  dict_[\"background\"]=backgroundfiles[dict_[\"background\"]]\n",
        "  dict_[\"body\"]=bodyfiles[dict_[\"body\"]]\n",
        "  dict_[\"crown\"]=crownfiles[dict_[\"crown\"]]\n",
        "  dict_[\"feather\"]=featherfiles[dict_[\"feather\"]]\n",
        "  dict_[\"glass\"]=glassfiles[dict_[\"glass\"]]\n",
        "  dict_[\"necklace\"]=necklacefiles[dict_[\"necklace\"]]\n",
        "  dict_[\"treasure\"]=treasurefiles[dict_[\"treasure\"]]\n",
        "\n",
        "  attribute_list_with_names.append(dict_)\n",
        "  \n",
        "\n"
      ],
      "execution_count": 43,
      "outputs": []
    },
    {
      "cell_type": "code",
      "metadata": {
        "colab": {
          "base_uri": "https://localhost:8080/"
        },
        "id": "ozxrCsOScqQ9",
        "outputId": "3b66b683-d269-477e-c257-9cf15e0784a8"
      },
      "source": [
        "attribute_list_with_names[0]"
      ],
      "execution_count": 46,
      "outputs": [
        {
          "output_type": "execute_result",
          "data": {
            "text/plain": [
              "{'background': 'purple',\n",
              " 'body': 'literedv2',\n",
              " 'crown': 'red_platinum',\n",
              " 'feather': 'gold_eth',\n",
              " 'glass': 'blue',\n",
              " 'necklace': 'empty',\n",
              " 'tokenId': 0,\n",
              " 'treasure': 'goldcoins'}"
            ]
          },
          "metadata": {},
          "execution_count": 46
        }
      ]
    },
    {
      "cell_type": "code",
      "metadata": {
        "id": "3YsH2Wh-eIHc"
      },
      "source": [
        "final_traits=[]\n",
        "each_trait ={\n",
        "      \"trait_type\": \"\",\n",
        "      \"value\": \"\"\n",
        "    }\n",
        "\n",
        "for i in attribute_list_with_names[0].keys():\n",
        "  each_trait ={\n",
        "      \"trait_type\": \"\",\n",
        "      \"value\": \"\"\n",
        "    }\n",
        "  each_trait[\"trait_type\"]=str(i)\n",
        "  each_trait[\"value\"]=attribute_list_with_names[0][i]\n",
        "  final_traits.append(each_trait)\n"
      ],
      "execution_count": 66,
      "outputs": []
    },
    {
      "cell_type": "code",
      "metadata": {
        "colab": {
          "base_uri": "https://localhost:8080/"
        },
        "id": "jwslJSlakJkU",
        "outputId": "aab0a4db-65c0-4392-ebd6-3d299422e88a"
      },
      "source": [
        "final_traits"
      ],
      "execution_count": 67,
      "outputs": [
        {
          "output_type": "execute_result",
          "data": {
            "text/plain": [
              "[{'trait_type': 'background', 'value': 'purple'},\n",
              " {'trait_type': 'body', 'value': 'literedv2'},\n",
              " {'trait_type': 'crown', 'value': 'red_platinum'},\n",
              " {'trait_type': 'feather', 'value': 'gold_eth'},\n",
              " {'trait_type': 'glass', 'value': 'blue'},\n",
              " {'trait_type': 'necklace', 'value': 'empty'},\n",
              " {'trait_type': 'treasure', 'value': 'goldcoins'},\n",
              " {'trait_type': 'tokenId', 'value': 0}]"
            ]
          },
          "metadata": {},
          "execution_count": 67
        }
      ]
    },
    {
      "cell_type": "code",
      "metadata": {
        "id": "dxSWPEeKnQu_"
      },
      "source": [
        "metadata[\"attributes\"] =final_traits"
      ],
      "execution_count": 69,
      "outputs": []
    },
    {
      "cell_type": "code",
      "metadata": {
        "colab": {
          "base_uri": "https://localhost:8080/"
        },
        "id": "Ia3ry1PZnQxo",
        "outputId": "c17ac1a8-ae77-4a21-fac1-f4b40910d0be"
      },
      "source": [
        "print(json.dumps(metadata, indent = 4, sort_keys=False))"
      ],
      "execution_count": 71,
      "outputs": [
        {
          "output_type": "stream",
          "name": "stdout",
          "text": [
            "{\n",
            "    \"name\": \"\",\n",
            "    \"symbol\": \"\",\n",
            "    \"description\": \"\",\n",
            "    \"seller_fee_basis_points\": 0,\n",
            "    \"image\": \"\",\n",
            "    \"external_url\": \"\",\n",
            "    \"attributes\": [\n",
            "        {\n",
            "            \"trait_type\": \"background\",\n",
            "            \"value\": \"purple\"\n",
            "        },\n",
            "        {\n",
            "            \"trait_type\": \"body\",\n",
            "            \"value\": \"literedv2\"\n",
            "        },\n",
            "        {\n",
            "            \"trait_type\": \"crown\",\n",
            "            \"value\": \"red_platinum\"\n",
            "        },\n",
            "        {\n",
            "            \"trait_type\": \"feather\",\n",
            "            \"value\": \"gold_eth\"\n",
            "        },\n",
            "        {\n",
            "            \"trait_type\": \"glass\",\n",
            "            \"value\": \"blue\"\n",
            "        },\n",
            "        {\n",
            "            \"trait_type\": \"necklace\",\n",
            "            \"value\": \"empty\"\n",
            "        },\n",
            "        {\n",
            "            \"trait_type\": \"treasure\",\n",
            "            \"value\": \"goldcoins\"\n",
            "        },\n",
            "        {\n",
            "            \"trait_type\": \"tokenId\",\n",
            "            \"value\": 0\n",
            "        }\n",
            "    ],\n",
            "    \"properties\": null\n",
            "}\n"
          ]
        }
      ]
    },
    {
      "cell_type": "code",
      "metadata": {
        "id": "-OPXfSUxnQ1S"
      },
      "source": [
        "# Add properites dict\n"
      ],
      "execution_count": null,
      "outputs": []
    },
    {
      "cell_type": "code",
      "metadata": {
        "id": "CIsBKB72nQ2q"
      },
      "source": [
        "creator_dict={\n",
        "    \"creators\": [\n",
        "      {\n",
        "        \"address\": \"4onSdJdm8BPuEY5thVkTiHrN6LdQHhyPkuqa8BjMJHtE\",\n",
        "        \"verified\": True,\n",
        "        \"share\": 100\n",
        "      }\n",
        "    ]\n",
        "  }"
      ],
      "execution_count": 75,
      "outputs": []
    },
    {
      "cell_type": "code",
      "metadata": {
        "id": "I4v9hs-MoPyQ"
      },
      "source": [
        "metadata[\"properties\"] =creator_dict"
      ],
      "execution_count": 76,
      "outputs": []
    },
    {
      "cell_type": "code",
      "metadata": {
        "colab": {
          "base_uri": "https://localhost:8080/"
        },
        "id": "EmnLU2t5oP0y",
        "outputId": "28e9351f-17ea-4dad-90e6-9bceaa6fa0fe"
      },
      "source": [
        "print(json.dumps(metadata, indent = 4, sort_keys=False))"
      ],
      "execution_count": 77,
      "outputs": [
        {
          "output_type": "stream",
          "name": "stdout",
          "text": [
            "{\n",
            "    \"name\": \"\",\n",
            "    \"symbol\": \"\",\n",
            "    \"description\": \"\",\n",
            "    \"seller_fee_basis_points\": 0,\n",
            "    \"image\": \"\",\n",
            "    \"external_url\": \"\",\n",
            "    \"attributes\": [\n",
            "        {\n",
            "            \"trait_type\": \"background\",\n",
            "            \"value\": \"purple\"\n",
            "        },\n",
            "        {\n",
            "            \"trait_type\": \"body\",\n",
            "            \"value\": \"literedv2\"\n",
            "        },\n",
            "        {\n",
            "            \"trait_type\": \"crown\",\n",
            "            \"value\": \"red_platinum\"\n",
            "        },\n",
            "        {\n",
            "            \"trait_type\": \"feather\",\n",
            "            \"value\": \"gold_eth\"\n",
            "        },\n",
            "        {\n",
            "            \"trait_type\": \"glass\",\n",
            "            \"value\": \"blue\"\n",
            "        },\n",
            "        {\n",
            "            \"trait_type\": \"necklace\",\n",
            "            \"value\": \"empty\"\n",
            "        },\n",
            "        {\n",
            "            \"trait_type\": \"treasure\",\n",
            "            \"value\": \"goldcoins\"\n",
            "        },\n",
            "        {\n",
            "            \"trait_type\": \"tokenId\",\n",
            "            \"value\": 0\n",
            "        }\n",
            "    ],\n",
            "    \"properties\": {\n",
            "        \"creators\": [\n",
            "            {\n",
            "                \"address\": \"4onSdJdm8BPuEY5thVkTiHrN6LdQHhyPkuqa8BjMJHtE\",\n",
            "                \"verified\": true,\n",
            "                \"share\": 100\n",
            "            }\n",
            "        ]\n",
            "    }\n",
            "}\n"
          ]
        }
      ]
    },
    {
      "cell_type": "code",
      "metadata": {
        "id": "Yj7Fsc5noZtA"
      },
      "source": [
        ""
      ],
      "execution_count": null,
      "outputs": []
    },
    {
      "cell_type": "code",
      "metadata": {
        "id": "60ntnh97oZv5"
      },
      "source": [
        ""
      ],
      "execution_count": null,
      "outputs": []
    },
    {
      "cell_type": "code",
      "metadata": {
        "id": "90lZAnQKoZyG"
      },
      "source": [
        ""
      ],
      "execution_count": null,
      "outputs": []
    },
    {
      "cell_type": "code",
      "metadata": {
        "colab": {
          "base_uri": "https://localhost:8080/"
        },
        "id": "gEWDTkRxQQR_",
        "outputId": "1987d023-9283-47c1-92e9-69ecfee63b96"
      },
      "source": [
        "# Indent print\n",
        "# Pretty Printing JSON string back\n",
        "print(json.dumps(person_dict, indent = 4, sort_keys=False))"
      ],
      "execution_count": 100,
      "outputs": [
        {
          "output_type": "stream",
          "name": "stdout",
          "text": [
            "{\n",
            "    \"name\": \"Bob\",\n",
            "    \"languages\": [\n",
            "        \"English\",\n",
            "        \"Fench\"\n",
            "    ]\n",
            "}\n"
          ]
        }
      ]
    },
    {
      "cell_type": "code",
      "metadata": {
        "colab": {
          "base_uri": "https://localhost:8080/"
        },
        "id": "1CYsk3q7SVmz",
        "outputId": "13dc5397-8ff3-4655-8d8b-7484e26bb5c5"
      },
      "source": [
        "import json\n",
        "\n",
        "ex= {\"name\": \"John\", \"age\": 30}\n",
        "ex2 = {\"apple\":\"bananas\"}\n",
        "print(json.dumps(ex, indent = 4, sort_keys=False))"
      ],
      "execution_count": 122,
      "outputs": [
        {
          "output_type": "stream",
          "name": "stdout",
          "text": [
            "{\n",
            "    \"name\": \"John\",\n",
            "    \"age\": 30\n",
            "}\n"
          ]
        }
      ]
    },
    {
      "cell_type": "code",
      "metadata": {
        "id": "kWmP9H4QVB45"
      },
      "source": [
        ""
      ],
      "execution_count": null,
      "outputs": []
    }
  ]
}